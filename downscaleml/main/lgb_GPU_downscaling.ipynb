{
 "cells": [
  {
   "cell_type": "code",
   "execution_count": 1,
   "id": "25728704-5500-4323-8759-810853e3792d",
   "metadata": {},
   "outputs": [],
   "source": [
    "from downscaleml.core.clustering import ClusteringWorkflow\n"
   ]
  },
  {
   "cell_type": "code",
   "execution_count": 4,
   "id": "928e7087-0fdc-41ef-8b0a-41c30558a147",
   "metadata": {},
   "outputs": [],
   "source": [
    "# module level logger\n",
    "LOGGER = logging.getLogger(__name__)"
   ]
  },
  {
   "cell_type": "code",
   "execution_count": null,
   "id": "78336db4-ada6-45cb-891b-d7cf182fbbca",
   "metadata": {},
   "outputs": [],
   "source": [
    "def doy_encoding(X, y=None, doy=False):\n",
    "\n",
    "    # whether to include the day of the year as predictor variable\n",
    "    if doy:\n",
    "        # add doy to set of predictor variables\n",
    "        LOGGER.info('Adding day of the year to predictor variables ...')\n",
    "        X = X.assign(EoDataset.encode_doys(X, chunks=X.chunks))\n",
    "\n",
    "    return X"
   ]
  },
  {
   "cell_type": "code",
   "execution_count": 1,
   "id": "72389e82-62e6-470f-9cb2-ffa446cc22e5",
   "metadata": {},
   "outputs": [],
   "source": [
    "# builtins\n",
    "import sys\n",
    "import os\n",
    "import time\n",
    "import logging\n",
    "from datetime import timedelta\n",
    "from logging.config import dictConfig\n",
    "import numpy as np\n",
    "import datetime\n",
    "import pathlib\n",
    "import pandas as pd\n",
    "import joblib\n",
    "from dask.distributed import Client\n",
    "import optuna\n",
    "import distributed\n",
    "from optuna.integration.dask import DaskStorage\n",
    "from sklearn.model_selection import KFold\n",
    "\n",
    "from sklearn.metrics import mean_squared_error\n",
    "\n",
    "from optuna.integration import LightGBMPruningCallback\n",
    "from sklearn.metrics import mean_squared_error\n",
    "from sklearn.model_selection import train_test_split\n",
    "import lightgbm as lgb\n",
    "import joblib\n",
    "\n",
    "# externals|\n",
    "import xarray as xr\n",
    "\n",
    "import xgboost as xgb\n",
    "from sklearn.ensemble import RandomForestRegressor, AdaBoostRegressor\n",
    "import lightgbm as lgb\n",
    "from sklearn.metrics import r2_score, root_mean_squared_error, mean_absolute_error\n",
    "from sklearn.model_selection import train_test_split\n",
    "\n",
    "# locals\n",
    "from downscaleml.core.dataset import ERA5Dataset, NetCDFDataset, EoDataset, DatasetStacker, doy_encoding, SummaryStatsCalculator\n",
    "\n",
    "from downscaleml.core.clustering import ClusteringWorkflow\n",
    "\n",
    "from downscaleml.main.config_reanalysis_dev import (ERA5_PATH, OBS_PATH, DEM_PATH, MODEL_PATH, TARGET_PATH, \n",
    "                                     NET, ERA5_PLEVELS, ERA5_PREDICTORS, PREDICTAND,\n",
    "                                     CALIB_PERIOD, VALID_PERIOD, DOY, NORM,\n",
    "                                     OVERWRITE, DEM, DEM_FEATURES, STRATIFY, WET_DAY_THRESHOLD,\n",
    "                                     VALID_SIZE, start_year, end_year, CHUNKS)\n",
    "\n",
    "#from downscaleml.main.inputoutput import ()\n",
    "\n",
    "from downscaleml.core.constants import (ERA5_P_VARIABLES, ERA5_P_VARIABLES_SHORTCUT, ERA5_P_VARIABLE_NAME,\n",
    "                                        ERA5_S_VARIABLES, ERA5_S_VARIABLES_SHORTCUT, ERA5_S_VARIABLE_NAME,\n",
    "                                        ERA5_VARIABLES, ERA5_VARIABLE_NAMES, ERA5_PRESSURE_LEVELS,\n",
    "                                        PREDICTANDS, ERA5_P_VARIABLES, ERA5_S_VARIABLES)\n",
    "\n",
    "from downscaleml.core.utils import NAMING_Model, normalize, search_files, LogConfig\n",
    "from downscaleml.core.logging import log_conf\n",
    "from sklearn.metrics import silhouette_score\n",
    "from sklearn.cluster import KMeans\n",
    "import matplotlib.pyplot as plt\n",
    "\n",
    "import numpy as np\n",
    "import matplotlib.pyplot as plt\n",
    "from sklearn.cluster import KMeans\n",
    "from sklearn.metrics import silhouette_score\n",
    "from sklearn.metrics import r2_score, mean_squared_error, mean_absolute_error"
   ]
  },
  {
   "cell_type": "code",
   "execution_count": 1,
   "id": "2eab33db-e59b-45bf-8434-de899dd13a71",
   "metadata": {},
   "outputs": [],
   "source": [
    "from downscaleml.core.hpo import objective\n"
   ]
  },
  {
   "cell_type": "code",
   "execution_count": null,
   "id": "efefcc5b-2057-466d-8808-ca193d052189",
   "metadata": {},
   "outputs": [],
   "source": []
  }
 ],
 "metadata": {
  "kernelspec": {
   "display_name": "dask",
   "language": "python",
   "name": "daskoper"
  },
  "language_info": {
   "codemirror_mode": {
    "name": "ipython",
    "version": 3
   },
   "file_extension": ".py",
   "mimetype": "text/x-python",
   "name": "python",
   "nbconvert_exporter": "python",
   "pygments_lexer": "ipython3",
   "version": "3.11.10"
  }
 },
 "nbformat": 4,
 "nbformat_minor": 5
}
