{
 "cells": [
  {
   "cell_type": "markdown",
   "id": "7a50f2fe-b66a-4056-955f-2b3d40fca3be",
   "metadata": {},
   "source": [
    "# Evaluate ERA-5 downscaling: minimum and maximum temperatures"
   ]
  },
  {
   "cell_type": "markdown",
   "id": "9ed2c2d9-30b8-4813-9707-ee08b5dfde5c",
   "metadata": {},
   "source": [
    "We used **1981-1991 as training** period and **1991-2010 as reference** period. The results shown in this notebook are based on the model predictions on the reference period."
   ]
  },
  {
   "cell_type": "markdown",
   "id": "2e7da988-24d7-4623-8a27-24188b04638f",
   "metadata": {},
   "source": [
    "**Predictors on pressure levels (500, 850)**:\n",
    "- Geopotential (z)\n",
    "- Temperature (t)\n",
    "- Zonal wind (u)\n",
    "- Meridional wind (v)\n",
    "- Specific humidity (q)\n",
    "\n",
    "**Predictors on surface**:\n",
    "- Surface pressure (p)\n",
    "\n",
    "**Auxiliary predictors**:\n",
    "- Elevation from Copernicus EU-DEM v1.1 (dem)\n",
    "- Day of the year (doy)"
   ]
  },
  {
   "cell_type": "markdown",
   "id": "84929d31-fd5d-4564-ab5d-239a05556f02",
   "metadata": {},
   "source": [
    "Define the predictand and the model to evaluate:"
   ]
  },
  {
   "cell_type": "code",
   "execution_count": 1,
   "id": "5969d002-1bc9-4e0e-8c98-6757c3e61a8a",
   "metadata": {},
   "outputs": [],
   "source": [
    "# define the predictand\n",
    "PREDICTAND = 'tasmean'  # 'tasmin' or 'tasmax'"
   ]
  },
  {
   "cell_type": "code",
   "execution_count": 2,
   "id": "a7a2d388-9fd4-4e1d-8c05-705ab66ad098",
   "metadata": {},
   "outputs": [],
   "source": [
    "# model filename to evaluate\n",
    "FILENAME = 'RandomForest_tasmean_ztuvq_500_850_mslpt2_dem_sa_doy.nc'  # change me!"
   ]
  },
  {
   "cell_type": "markdown",
   "id": "f9653fb9-030e-4665-8759-664211569293",
   "metadata": {},
   "source": [
    "### Imports"
   ]
  },
  {
   "cell_type": "code",
   "execution_count": 3,
   "id": "9c2f1cdb-c918-4997-8a55-4ca7c7092209",
   "metadata": {},
   "outputs": [
    {
     "ename": "ModuleNotFoundError",
     "evalue": "No module named 'torch._C'",
     "output_type": "error",
     "traceback": [
      "\u001b[0;31m---------------------------------------------------------------------------\u001b[0m",
      "\u001b[0;31mModuleNotFoundError\u001b[0m                       Traceback (most recent call last)",
      "Cell \u001b[0;32mIn[3], line 20\u001b[0m\n\u001b[1;32m     18\u001b[0m \u001b[38;5;28;01mfrom\u001b[39;00m \u001b[38;5;21;01mdownscaleml\u001b[39;00m\u001b[38;5;21;01m.\u001b[39;00m\u001b[38;5;21;01mmain\u001b[39;00m\u001b[38;5;21;01m.\u001b[39;00m\u001b[38;5;21;01minputoutput\u001b[39;00m \u001b[38;5;28;01mimport\u001b[39;00m ERA5_PATH, OBS_PATH, TARGET_PATH, DEM_PATH, MODEL_PATH\n\u001b[1;32m     19\u001b[0m \u001b[38;5;28;01mfrom\u001b[39;00m \u001b[38;5;21;01mclimax\u001b[39;00m\u001b[38;5;21;01m.\u001b[39;00m\u001b[38;5;21;01mcore\u001b[39;00m\u001b[38;5;21;01m.\u001b[39;00m\u001b[38;5;21;01mutils\u001b[39;00m \u001b[38;5;28;01mimport\u001b[39;00m plot_loss\n\u001b[0;32m---> 20\u001b[0m \u001b[38;5;28;01mfrom\u001b[39;00m \u001b[38;5;21;01mclimax\u001b[39;00m\u001b[38;5;21;01m.\u001b[39;00m\u001b[38;5;21;01mcore\u001b[39;00m\u001b[38;5;21;01m.\u001b[39;00m\u001b[38;5;21;01mdataset\u001b[39;00m \u001b[38;5;28;01mimport\u001b[39;00m ERA5Dataset\n\u001b[1;32m     21\u001b[0m \u001b[38;5;28;01mfrom\u001b[39;00m \u001b[38;5;21;01mdownscaleml\u001b[39;00m\u001b[38;5;21;01m.\u001b[39;00m\u001b[38;5;21;01mcore\u001b[39;00m\u001b[38;5;21;01m.\u001b[39;00m\u001b[38;5;21;01mutils\u001b[39;00m \u001b[38;5;28;01mimport\u001b[39;00m search_files\n",
      "File \u001b[0;32m~/eurac/climax/climax/core/dataset.py:23\u001b[0m\n\u001b[1;32m     19\u001b[0m \u001b[38;5;66;03m# locals\u001b[39;00m\n\u001b[1;32m     20\u001b[0m \u001b[38;5;28;01mfrom\u001b[39;00m \u001b[38;5;21;01mclimax\u001b[39;00m\u001b[38;5;21;01m.\u001b[39;00m\u001b[38;5;21;01mcore\u001b[39;00m\u001b[38;5;21;01m.\u001b[39;00m\u001b[38;5;21;01mconstants\u001b[39;00m \u001b[38;5;28;01mimport\u001b[39;00m (ERA5_VARIABLES, ERA5_PRESSURE_LEVELS,\n\u001b[1;32m     21\u001b[0m                                    ERA5_P_VARIABLE_NAME, ERA5_S_VARIABLE_NAME,\n\u001b[1;32m     22\u001b[0m                                    PROJECTION)\n\u001b[0;32m---> 23\u001b[0m \u001b[38;5;28;01mfrom\u001b[39;00m \u001b[38;5;21;01mclimax\u001b[39;00m\u001b[38;5;21;01m.\u001b[39;00m\u001b[38;5;21;01mmain\u001b[39;00m\u001b[38;5;21;01m.\u001b[39;00m\u001b[38;5;21;01mconfig\u001b[39;00m \u001b[38;5;28;01mimport\u001b[39;00m (WET_DAY_THRESHOLD)\n\u001b[1;32m     24\u001b[0m \u001b[38;5;28;01mfrom\u001b[39;00m \u001b[38;5;21;01mclimax\u001b[39;00m\u001b[38;5;21;01m.\u001b[39;00m\u001b[38;5;21;01mcore\u001b[39;00m\u001b[38;5;21;01m.\u001b[39;00m\u001b[38;5;21;01mloss\u001b[39;00m \u001b[38;5;28;01mimport\u001b[39;00m BernoulliGammaLoss, BernoulliWeibullLoss\n\u001b[1;32m     25\u001b[0m \u001b[38;5;28;01mfrom\u001b[39;00m \u001b[38;5;21;01mpysegcnn\u001b[39;00m\u001b[38;5;21;01m.\u001b[39;00m\u001b[38;5;21;01mcore\u001b[39;00m\u001b[38;5;21;01m.\u001b[39;00m\u001b[38;5;21;01mutils\u001b[39;00m \u001b[38;5;28;01mimport\u001b[39;00m search_files, img2np\n",
      "File \u001b[0;32m~/eurac/climax/climax/main/config.py:16\u001b[0m\n\u001b[1;32m     13\u001b[0m \u001b[38;5;66;03m# locals\u001b[39;00m\n\u001b[1;32m     14\u001b[0m \u001b[38;5;28;01mfrom\u001b[39;00m \u001b[38;5;21;01mclimax\u001b[39;00m\u001b[38;5;21;01m.\u001b[39;00m\u001b[38;5;21;01mcore\u001b[39;00m\u001b[38;5;21;01m.\u001b[39;00m\u001b[38;5;21;01mconstants\u001b[39;00m \u001b[38;5;28;01mimport\u001b[39;00m (PREDICTANDS, ERA5_P_VARIABLES,\n\u001b[1;32m     15\u001b[0m                                    ERA5_S_VARIABLES)\n\u001b[0;32m---> 16\u001b[0m \u001b[38;5;28;01mfrom\u001b[39;00m \u001b[38;5;21;01mclimax\u001b[39;00m\u001b[38;5;21;01m.\u001b[39;00m\u001b[38;5;21;01mcore\u001b[39;00m\u001b[38;5;21;01m.\u001b[39;00m\u001b[38;5;21;01mmodels\u001b[39;00m \u001b[38;5;28;01mimport\u001b[39;00m SegNet, USegNet, StridedSegNet\n\u001b[1;32m     17\u001b[0m \u001b[38;5;28;01mfrom\u001b[39;00m \u001b[38;5;21;01mclimax\u001b[39;00m\u001b[38;5;21;01m.\u001b[39;00m\u001b[38;5;21;01mcore\u001b[39;00m\u001b[38;5;21;01m.\u001b[39;00m\u001b[38;5;21;01mloss\u001b[39;00m \u001b[38;5;28;01mimport\u001b[39;00m (BernoulliGammaLoss, MSELoss, L1Loss,\n\u001b[1;32m     18\u001b[0m                               BernoulliWeibullLoss)\n\u001b[1;32m     20\u001b[0m \u001b[38;5;66;03m# -----------------------------------------------------------------------------\u001b[39;00m\n\u001b[1;32m     21\u001b[0m \u001b[38;5;66;03m# ERA5 downscaling configuration ----------------------------------------------\u001b[39;00m\n\u001b[1;32m     22\u001b[0m \u001b[38;5;66;03m# -----------------------------------------------------------------------------\u001b[39;00m\n\u001b[1;32m     23\u001b[0m \n\u001b[1;32m     24\u001b[0m \u001b[38;5;66;03m# ERA5 predictor variables on pressure levels\u001b[39;00m\n",
      "File \u001b[0;32m~/eurac/climax/climax/core/models.py:7\u001b[0m\n\u001b[1;32m      1\u001b[0m \u001b[38;5;124;03m\"\"\"Network architectures.\"\"\"\u001b[39;00m\n\u001b[1;32m      3\u001b[0m \u001b[38;5;66;03m# !/usr/bin/env python\u001b[39;00m\n\u001b[1;32m      4\u001b[0m \u001b[38;5;66;03m# -*- coding: utf-8 -*-\u001b[39;00m\n\u001b[1;32m      5\u001b[0m \n\u001b[1;32m      6\u001b[0m \u001b[38;5;66;03m# locals\u001b[39;00m\n\u001b[0;32m----> 7\u001b[0m \u001b[38;5;28;01mfrom\u001b[39;00m \u001b[38;5;21;01mpysegcnn\u001b[39;00m\u001b[38;5;21;01m.\u001b[39;00m\u001b[38;5;21;01mcore\u001b[39;00m\u001b[38;5;21;01m.\u001b[39;00m\u001b[38;5;21;01mmodels\u001b[39;00m \u001b[38;5;28;01mimport\u001b[39;00m ConvolutionalAutoEncoder\n\u001b[1;32m      8\u001b[0m \u001b[38;5;28;01mfrom\u001b[39;00m \u001b[38;5;21;01mpysegcnn\u001b[39;00m\u001b[38;5;21;01m.\u001b[39;00m\u001b[38;5;21;01mcore\u001b[39;00m\u001b[38;5;21;01m.\u001b[39;00m\u001b[38;5;21;01mlayers\u001b[39;00m \u001b[38;5;28;01mimport\u001b[39;00m (ConvBnReluMaxPool, ConvBnReluConvS2,\n\u001b[1;32m      9\u001b[0m                                   ConvBnReluMaxUnpool, ConvBnReluUpsample)\n\u001b[1;32m     12\u001b[0m \u001b[38;5;28;01mclass\u001b[39;00m \u001b[38;5;21;01mSegNet\u001b[39;00m(ConvolutionalAutoEncoder):\n",
      "File \u001b[0;32m~/eurac/pysegcnn/pysegcnn/core/models.py:25\u001b[0m\n\u001b[1;32m     23\u001b[0m \u001b[38;5;28;01mimport\u001b[39;00m \u001b[38;5;21;01mnumpy\u001b[39;00m \u001b[38;5;28;01mas\u001b[39;00m \u001b[38;5;21;01mnp\u001b[39;00m\n\u001b[1;32m     24\u001b[0m \u001b[38;5;28;01mimport\u001b[39;00m \u001b[38;5;21;01mtorch\u001b[39;00m\n\u001b[0;32m---> 25\u001b[0m \u001b[38;5;28;01mimport\u001b[39;00m \u001b[38;5;21;01mtorch\u001b[39;00m\u001b[38;5;21;01m.\u001b[39;00m\u001b[38;5;21;01mnn\u001b[39;00m \u001b[38;5;28;01mas\u001b[39;00m \u001b[38;5;21;01mnn\u001b[39;00m\n\u001b[1;32m     26\u001b[0m \u001b[38;5;28;01mimport\u001b[39;00m \u001b[38;5;21;01mtorch\u001b[39;00m\u001b[38;5;21;01m.\u001b[39;00m\u001b[38;5;21;01moptim\u001b[39;00m \u001b[38;5;28;01mas\u001b[39;00m \u001b[38;5;21;01moptim\u001b[39;00m\n\u001b[1;32m     28\u001b[0m \u001b[38;5;66;03m# locals\u001b[39;00m\n",
      "File \u001b[0;32m~/anaconda3/envs/plot/lib/python3.9/site-packages/torch/nn/__init__.py:1\u001b[0m\n\u001b[0;32m----> 1\u001b[0m \u001b[38;5;28;01mfrom\u001b[39;00m \u001b[38;5;21;01m.\u001b[39;00m\u001b[38;5;21;01mmodules\u001b[39;00m \u001b[38;5;28;01mimport\u001b[39;00m \u001b[38;5;241m*\u001b[39m  \u001b[38;5;66;03m# noqa: F403\u001b[39;00m\n\u001b[1;32m      2\u001b[0m \u001b[38;5;28;01mfrom\u001b[39;00m \u001b[38;5;21;01m.\u001b[39;00m\u001b[38;5;21;01mparameter\u001b[39;00m \u001b[38;5;28;01mimport\u001b[39;00m (\n\u001b[1;32m      3\u001b[0m     Parameter \u001b[38;5;28;01mas\u001b[39;00m Parameter,\n\u001b[1;32m      4\u001b[0m     UninitializedParameter \u001b[38;5;28;01mas\u001b[39;00m UninitializedParameter,\n\u001b[1;32m      5\u001b[0m     UninitializedBuffer \u001b[38;5;28;01mas\u001b[39;00m UninitializedBuffer,\n\u001b[1;32m      6\u001b[0m )\n\u001b[1;32m      7\u001b[0m \u001b[38;5;28;01mfrom\u001b[39;00m \u001b[38;5;21;01m.\u001b[39;00m\u001b[38;5;21;01mparallel\u001b[39;00m \u001b[38;5;28;01mimport\u001b[39;00m DataParallel \u001b[38;5;28;01mas\u001b[39;00m DataParallel\n",
      "File \u001b[0;32m~/anaconda3/envs/plot/lib/python3.9/site-packages/torch/nn/modules/__init__.py:1\u001b[0m\n\u001b[0;32m----> 1\u001b[0m \u001b[38;5;28;01mfrom\u001b[39;00m \u001b[38;5;21;01m.\u001b[39;00m\u001b[38;5;21;01mmodule\u001b[39;00m \u001b[38;5;28;01mimport\u001b[39;00m Module\n\u001b[1;32m      2\u001b[0m \u001b[38;5;28;01mfrom\u001b[39;00m \u001b[38;5;21;01m.\u001b[39;00m\u001b[38;5;21;01mlinear\u001b[39;00m \u001b[38;5;28;01mimport\u001b[39;00m Identity, Linear, Bilinear, LazyLinear\n\u001b[1;32m      3\u001b[0m \u001b[38;5;28;01mfrom\u001b[39;00m \u001b[38;5;21;01m.\u001b[39;00m\u001b[38;5;21;01mconv\u001b[39;00m \u001b[38;5;28;01mimport\u001b[39;00m Conv1d, Conv2d, Conv3d, \\\n\u001b[1;32m      4\u001b[0m     ConvTranspose1d, ConvTranspose2d, ConvTranspose3d, \\\n\u001b[1;32m      5\u001b[0m     LazyConv1d, LazyConv2d, LazyConv3d, LazyConvTranspose1d, LazyConvTranspose2d, LazyConvTranspose3d\n",
      "File \u001b[0;32m~/anaconda3/envs/plot/lib/python3.9/site-packages/torch/nn/modules/module.py:8\u001b[0m\n\u001b[1;32m      5\u001b[0m \u001b[38;5;28;01mimport\u001b[39;00m \u001b[38;5;21;01mweakref\u001b[39;00m\n\u001b[1;32m      7\u001b[0m \u001b[38;5;28;01mimport\u001b[39;00m \u001b[38;5;21;01mtorch\u001b[39;00m\n\u001b[0;32m----> 8\u001b[0m \u001b[38;5;28;01mfrom\u001b[39;00m \u001b[38;5;21;01m.\u001b[39;00m\u001b[38;5;21;01m.\u001b[39;00m\u001b[38;5;21;01mparameter\u001b[39;00m \u001b[38;5;28;01mimport\u001b[39;00m Parameter\n\u001b[1;32m      9\u001b[0m \u001b[38;5;28;01mimport\u001b[39;00m \u001b[38;5;21;01mtorch\u001b[39;00m\u001b[38;5;21;01m.\u001b[39;00m\u001b[38;5;21;01mutils\u001b[39;00m\u001b[38;5;21;01m.\u001b[39;00m\u001b[38;5;21;01mhooks\u001b[39;00m \u001b[38;5;28;01mas\u001b[39;00m \u001b[38;5;21;01mhooks\u001b[39;00m\n\u001b[1;32m     11\u001b[0m \u001b[38;5;28;01mfrom\u001b[39;00m \u001b[38;5;21;01mtorch\u001b[39;00m \u001b[38;5;28;01mimport\u001b[39;00m Tensor, device, dtype\n",
      "File \u001b[0;32m~/anaconda3/envs/plot/lib/python3.9/site-packages/torch/nn/parameter.py:2\u001b[0m\n\u001b[1;32m      1\u001b[0m \u001b[38;5;28;01mimport\u001b[39;00m \u001b[38;5;21;01mtorch\u001b[39;00m\n\u001b[0;32m----> 2\u001b[0m \u001b[38;5;28;01mfrom\u001b[39;00m \u001b[38;5;21;01mtorch\u001b[39;00m\u001b[38;5;21;01m.\u001b[39;00m\u001b[38;5;21;01m_C\u001b[39;00m \u001b[38;5;28;01mimport\u001b[39;00m _disabled_torch_function_impl\n\u001b[1;32m      3\u001b[0m \u001b[38;5;28;01mfrom\u001b[39;00m \u001b[38;5;21;01mcollections\u001b[39;00m \u001b[38;5;28;01mimport\u001b[39;00m OrderedDict\n\u001b[1;32m      5\u001b[0m \u001b[38;5;66;03m# Metaclass to combine _TensorMeta and the instance check override for Parameter.\u001b[39;00m\n",
      "\u001b[0;31mModuleNotFoundError\u001b[0m: No module named 'torch._C'"
     ]
    }
   ],
   "source": [
    "# builtins\n",
    "import datetime\n",
    "import warnings\n",
    "import calendar\n",
    "\n",
    "# externals\n",
    "import xarray as xr\n",
    "import numpy as np\n",
    "import matplotlib.pyplot as plt\n",
    "from matplotlib import cm\n",
    "from matplotlib.colors import ListedColormap\n",
    "from mpl_toolkits.axes_grid1.inset_locator import inset_axes\n",
    "import scipy.stats as stats\n",
    "from IPython.display import Image\n",
    "from sklearn.metrics import r2_score\n",
    "\n",
    "# locals\n",
    "from downscaleml.main.inputoutput import ERA5_PATH, OBS_PATH, TARGET_PATH, DEM_PATH, MODEL_PATH\n",
    "from climax.core.utils import plot_loss\n",
    "from climax.core.dataset import ERA5Dataset\n",
    "from downscaleml.core.utils import search_files"
   ]
  },
  {
   "cell_type": "code",
   "execution_count": null,
   "id": "c5a084dd-1853-4cc8-b413-e4acac534de9",
   "metadata": {},
   "outputs": [],
   "source": [
    "# mapping from predictands to variable names\n",
    "NAMES = {'tasmin': 'minimum temperature', 'tasmax': 'maximum temperature', 'pr': 'precipitation', 'tasmean': 'mean temperature'}"
   ]
  },
  {
   "cell_type": "markdown",
   "id": "8b921da4-e4d5-44d3-9d34-00b676f47891",
   "metadata": {},
   "source": [
    "### Model architecture"
   ]
  },
  {
   "cell_type": "markdown",
   "id": "8aaf6fa7-25c5-43d1-9a5b-e5604a7becce",
   "metadata": {},
   "source": [
    "### Load datasets"
   ]
  },
  {
   "cell_type": "code",
   "execution_count": null,
   "id": "5d476c21-a797-46d6-816c-0af0a15168ee",
   "metadata": {},
   "outputs": [],
   "source": [
    "# model predictions\n",
    "y_pred = xr.open_dataset(TARGET_PATH.joinpath(PREDICTAND, FILENAME))\n",
    "y_pred"
   ]
  },
  {
   "cell_type": "code",
   "execution_count": null,
   "id": "c7e41cc3-ac09-41c0-909f-59baa3373b86",
   "metadata": {},
   "outputs": [],
   "source": [
    "TARGET_PATH.joinpath(PREDICTAND, FILENAME)"
   ]
  },
  {
   "cell_type": "code",
   "execution_count": null,
   "id": "9ce62388-f7f1-444c-96e9-02055cef9a9f",
   "metadata": {},
   "outputs": [],
   "source": [
    "# target values: observations\n",
    "y_true = xr.open_dataset(search_files(OBS_PATH.joinpath(PREDICTAND), '.nc$').pop())\n",
    "y_true\n"
   ]
  },
  {
   "cell_type": "code",
   "execution_count": null,
   "id": "57f4ed1a-86b1-4f25-bb74-03b84d2ac7cf",
   "metadata": {},
   "outputs": [],
   "source": [
    "# subset to time period covered by predictions\n",
    "y_true = y_true.sel(time=y_pred.time)\n"
   ]
  },
  {
   "cell_type": "code",
   "execution_count": null,
   "id": "c66cb498-3d5b-49d3-a4d3-313a153f0612",
   "metadata": {},
   "outputs": [],
   "source": [
    "y_true = y_true.rename({'t2m': PREDICTAND})\n",
    "y_true = y_true.rename({'longitude': 'x','latitude': 'y'})\n",
    "y_true"
   ]
  },
  {
   "cell_type": "code",
   "execution_count": null,
   "id": "48fe83a2-236d-4d19-8dff-77429077e6be",
   "metadata": {},
   "outputs": [],
   "source": [
    "# align datasets and mask missing values in model predictions\n",
    "y_true, y_pred = xr.align(y_true[PREDICTAND], y_pred[PREDICTAND], join='override')\n",
    "y_pred = y_pred.where(~np.isnan(y_true), other=np.nan)"
   ]
  },
  {
   "cell_type": "markdown",
   "id": "edcccc9c-e4b2-42ba-ac4c-113de4614c51",
   "metadata": {},
   "source": [
    "## Model validation"
   ]
  },
  {
   "cell_type": "code",
   "execution_count": null,
   "id": "8d91d7fd-213c-4db1-a48e-bc09cec18724",
   "metadata": {},
   "outputs": [],
   "source": [
    "y_true"
   ]
  },
  {
   "cell_type": "code",
   "execution_count": null,
   "id": "7ab1d9b2-3bf3-49cf-ab8a-6af3b8e2c46b",
   "metadata": {},
   "outputs": [],
   "source": [
    "y_pred"
   ]
  },
  {
   "cell_type": "code",
   "execution_count": null,
   "id": "d0affead-e0f5-4a23-8c06-85b263ce6ea5",
   "metadata": {},
   "outputs": [],
   "source": [
    "y_pred = y_pred - 273.15\n",
    "y_true = y_true - 273.15"
   ]
  },
  {
   "cell_type": "code",
   "execution_count": null,
   "id": "e36acbd7-15b7-48f7-9b2d-64cf1b2094a4",
   "metadata": {},
   "outputs": [],
   "source": [
    "# calculate monthly means\n",
    "y_pred_mm = y_pred.groupby('time.month').mean(dim=('time'))\n",
    "y_true_mm = y_true.groupby('time.month').mean(dim=('time'))"
   ]
  },
  {
   "cell_type": "code",
   "execution_count": null,
   "id": "56c7966e-62e2-4fcf-8b72-16b50e913990",
   "metadata": {},
   "outputs": [],
   "source": [
    "y_pred_mm"
   ]
  },
  {
   "cell_type": "code",
   "execution_count": null,
   "id": "722bc579-0c2b-49cb-99e6-bb84f78f07ec",
   "metadata": {},
   "outputs": [],
   "source": [
    "y_true_mm"
   ]
  },
  {
   "cell_type": "code",
   "execution_count": null,
   "id": "77397c0b-3238-489a-b798-d7cc9af1ac76",
   "metadata": {},
   "outputs": [],
   "source": [
    "# calculate mean annual cycle\n",
    "y_pred_ac = y_pred_mm.mean(dim=('x', 'y'))\n",
    "y_true_ac = y_true_mm.mean(dim=('x', 'y'))"
   ]
  },
  {
   "cell_type": "code",
   "execution_count": null,
   "id": "fdb22b20-e19d-4da6-9373-4724fae48d19",
   "metadata": {},
   "outputs": [],
   "source": [
    "# compute daily anomalies\n",
    "y_pred_anom = ERA5Dataset.anomalies(y_pred, timescale='time.month')\n",
    "y_true_anom = ERA5Dataset.anomalies(y_true, timescale='time.month')"
   ]
  },
  {
   "cell_type": "markdown",
   "id": "36e15e61-6552-4a76-9db3-166b9769b343",
   "metadata": {},
   "source": [
    "### Coefficient of determination"
   ]
  },
  {
   "cell_type": "code",
   "execution_count": null,
   "id": "c076bffa-30f9-40de-97fa-eca80ea2c272",
   "metadata": {},
   "outputs": [],
   "source": [
    "# get predicted and observed daily anomalies\n",
    "y_pred_av = y_pred_anom.values.flatten()\n",
    "y_true_av = y_true_anom.values.flatten()\n",
    "\n",
    "# apply mask of valid pixels\n",
    "mask = (~np.isnan(y_pred_av) & ~np.isnan(y_true_av))\n",
    "y_pred_av = y_pred_av[mask]\n",
    "y_true_av = y_true_av[mask]\n",
    "\n",
    "# get predicted and observed monthly means\n",
    "y_pred_mv = y_pred_mm.values.flatten()\n",
    "y_true_mv = y_true_mm.values.flatten()\n",
    "\n",
    "# apply mask of valid pixels\n",
    "mask = (~np.isnan(y_pred_mv) & ~np.isnan(y_true_mv))\n",
    "y_pred_mv = y_pred_mv[mask]\n",
    "y_true_mv = y_true_mv[mask]\n",
    "\n",
    "# calculate coefficient of determination on monthly means\n",
    "r2_mm = r2_score(y_true_mv, y_pred_mv)\n",
    "print('R2 on monthly means: {:.2f}'.format(r2_mm))\n",
    "\n",
    "# calculate coefficient of determination on daily anomalies\n",
    "r2_anom = r2_score(y_true_av, y_pred_av)\n",
    "print('R2 on daily anomalies: {:.2f}'.format(r2_anom))"
   ]
  },
  {
   "cell_type": "code",
   "execution_count": null,
   "id": "e34f28dc-af4e-463f-b668-3259b107be45",
   "metadata": {},
   "outputs": [],
   "source": [
    "# scatter plot of observations vs. predictions\n",
    "fig, ax = plt.subplots(1, 1, figsize=(10, 10))\n",
    "\n",
    "# plot entire dataset\n",
    "ax.plot(y_true_mv, y_pred_mv, 'o', alpha=.5, markeredgecolor='grey', markerfacecolor='none', markersize=3);\n",
    "\n",
    "# plot 1:1 mapping line\n",
    "if PREDICTAND == 'tasmin':\n",
    "    interval = np.arange(-25, 30, 5)\n",
    "else:\n",
    "    interval = np.arange(-15, 45, 5)\n",
    "ax.plot(interval, interval, color='k', lw=2, ls='--')\n",
    "\n",
    "# add coefficients of determination\n",
    "ax.text(interval[-1] - 0.5, interval[0] + 0.5, s='R$^2$ (monthly means)= {:.2f}'.format(r2_mm), ha='right', fontsize=18)\n",
    "ax.text(interval[-1] - 0.5, interval[0] + 2.5, s='R$^2$ (daily anomalies) = {:.2f}'.format(r2_anom), ha='right', fontsize=18)\n",
    "\n",
    "\n",
    "# format axes\n",
    "ax.set_ylim(interval[0], interval[-1])\n",
    "ax.set_xlim(interval[0], interval[-1])\n",
    "ax.set_xticks(interval)\n",
    "ax.set_xticklabels(interval, fontsize=16)\n",
    "ax.set_yticks(interval)\n",
    "ax.set_yticklabels(interval, fontsize=16)\n",
    "ax.set_xlabel('Observed', fontsize=18)\n",
    "ax.set_ylabel('Predicted', fontsize=18)\n",
    "ax.set_title('Monthly mean {} (°C)'.format(NAMES[PREDICTAND]), fontsize=20, pad=10);\n",
    "\n",
    "# add axis for annual cycle\n",
    "axins = inset_axes(ax, width=\"30%\", height=\"40%\", loc=2, borderpad=1)\n",
    "axins.plot(y_pred_ac.values, ls='--', color='k', label='Predicted')\n",
    "axins.plot(y_true_ac.values, ls='-', color='k', label='Observed')\n",
    "axins.legend(frameon=False, fontsize=12, loc='lower center');\n",
    "axins.yaxis.tick_right()\n",
    "axins.set_yticks(np.arange(-10, 11, 2) if PREDICTAND == 'tasmin' else np.arange(0, 20, 2))\n",
    "axins.set_yticklabels(np.arange(-10, 11, 2) if PREDICTAND == 'tasmin' else np.arange(0, 20, 2), fontsize=12)\n",
    "axins.set_xticks(np.arange(0, 12))\n",
    "axins.set_xticklabels([calendar.month_name[i + 1] for i in np.arange(0, 12)], rotation=90, fontsize=12)\n",
    "axins.set_title('Mean annual cycle', fontsize=14, pad=5);"
   ]
  },
  {
   "cell_type": "markdown",
   "id": "e503c143-3844-4d25-9c3e-52704f9bd02b",
   "metadata": {},
   "source": [
    "### Mean error (Bias)"
   ]
  },
  {
   "cell_type": "markdown",
   "id": "1d5fdda2-40ae-4a97-a5ce-c7bf87e0824e",
   "metadata": {},
   "source": [
    "Calculate yearly average bias over entire reference period:"
   ]
  },
  {
   "cell_type": "code",
   "execution_count": null,
   "id": "c976976d-f90e-4877-abc4-225d99d08f94",
   "metadata": {},
   "outputs": [],
   "source": [
    "# yearly average bias over reference period\n",
    "y_pred_yearly_avg = y_pred.groupby('time.year').mean(dim='time')\n",
    "y_true_yearly_avg = y_true.groupby('time.year').mean(dim='time')\n",
    "bias_yearly_avg = y_pred_yearly_avg - y_true_yearly_avg\n",
    "print('(Model) Yearly average bias of {}: {:.2f}°C'.format(PREDICTAND, bias_yearly_avg.mean().item()))"
   ]
  },
  {
   "cell_type": "markdown",
   "id": "9b896c84-6a53-4929-8ec5-964a9775e1e8",
   "metadata": {},
   "source": [
    "### Mean absolute error (MAE)"
   ]
  },
  {
   "cell_type": "code",
   "execution_count": null,
   "id": "dd1f3693-9c17-463a-801f-a54196a534d8",
   "metadata": {},
   "outputs": [],
   "source": [
    "# mean absolute error over reference period\n",
    "mae_avg = np.abs(y_pred_yearly_avg - y_true_yearly_avg).mean()\n",
    "print('(Model) Yearly average MAE of {}: {:.2f}°C'.format(PREDICTAND, mae_avg.mean().item()))"
   ]
  },
  {
   "cell_type": "markdown",
   "id": "2c8f1e82-cc7e-4b99-a01d-5227eedceb5c",
   "metadata": {},
   "source": [
    "### Root mean squared error (RMSE)"
   ]
  },
  {
   "cell_type": "code",
   "execution_count": null,
   "id": "05fe6ca3-705f-4047-a7af-449fdf3f72df",
   "metadata": {},
   "outputs": [],
   "source": [
    "# root mean squared error over reference period\n",
    "rmse_avg = np.sqrt(((y_pred_yearly_avg - y_true_yearly_avg) ** 2).mean())\n",
    "print('(Model) Yearly average RMSE of {}: {:.2f}°C'.format(PREDICTAND, rmse_avg.mean().item()))"
   ]
  },
  {
   "cell_type": "code",
   "execution_count": null,
   "id": "c8c42ff3-0713-4608-8332-53d11767c79d",
   "metadata": {},
   "outputs": [],
   "source": [
    "# scatter plot of observations vs. predictions\n",
    "fig, ax = plt.subplots(1, 1, figsize=(10, 10))\n",
    "\n",
    "# plot entire dataset\n",
    "ax.plot(y_true_mv, y_pred_mv, 'o', alpha=.5, markeredgecolor='grey', markerfacecolor='none', markersize=3);\n",
    "\n",
    "# plot 1:1 mapping line\n",
    "if PREDICTAND == 'tasmin':\n",
    "    interval = np.arange(-25, 30, 5)\n",
    "else:\n",
    "    interval = np.arange(-15, 45, 5)\n",
    "ax.plot(interval, interval, color='k', lw=2, ls='--')\n",
    "\n",
    "# add coefficients of determination\n",
    "ax.text(interval[-1] - 0.5, interval[0] + 0.5, s='R$^2$ (monthly means)= {:.2f}'.format(r2_mm), ha='right', fontsize=18)\n",
    "ax.text(interval[-1] - 0.5, interval[0] + 2.5, s='R$^2$ (daily anomalies) = {:.2f}'.format(r2_anom), ha='right', fontsize=18)\n",
    "ax.text(interval[-1] - 0.5, interval[0] + 4.5, s='Yearly average bias of {}: {:.2f}°C'.format(PREDICTAND, bias_yearly_avg.mean().item()), ha='right', fontsize=18)\n",
    "ax.text(interval[-1] - 0.5, interval[0] + 6.5, s='Yearly average MAE of {}: {:.2f}°C'.format(PREDICTAND, mae_avg.mean().item()), ha='right', fontsize=18)\n",
    "ax.text(interval[-1] - 0.5, interval[0] + 8.5, s='Yearly average RMSE of {}: {:.2f}°C'.format(PREDICTAND, rmse_avg.mean().item()), ha='right', fontsize=18)\n",
    "\n",
    "\n",
    "# format axes\n",
    "ax.set_ylim(interval[0], interval[-1])\n",
    "ax.set_xlim(interval[0], interval[-1])\n",
    "ax.set_xticks(interval)\n",
    "ax.set_xticklabels(interval, fontsize=16)\n",
    "ax.set_yticks(interval)\n",
    "ax.set_yticklabels(interval, fontsize=16)\n",
    "ax.set_xlabel('CERRA_tasmean', fontsize=18)\n",
    "ax.set_ylabel('Random_Forest_tasmean', fontsize=18)\n",
    "ax.set_title('Monthly mean {} (°C)'.format(NAMES[PREDICTAND]), fontsize=20, pad=10);\n",
    "\n",
    "# add axis for annual cycle\n",
    "axins = inset_axes(ax, width=\"35%\", height=\"40%\", loc=2, borderpad=1)\n",
    "axins.plot(y_pred_ac.values, ls='--', color='k', label='RF_tasmean')\n",
    "axins.plot(y_true_ac.values, ls='-', color='k', label='CERRA')\n",
    "axins.legend(frameon=False, fontsize=12, loc='lower center');\n",
    "axins.yaxis.tick_right()\n",
    "axins.set_yticks(np.arange(-10, 11, 2) if PREDICTAND == 'tasmin' else np.arange(0, 20, 2))\n",
    "axins.set_yticklabels(np.arange(-10, 11, 2) if PREDICTAND == 'tasmin' else np.arange(0, 20, 2), fontsize=12)\n",
    "axins.set_xticks(np.arange(0, 12))\n",
    "axins.set_xticklabels([calendar.month_name[i + 1] for i in np.arange(0, 12)], rotation=90, fontsize=12)\n",
    "axins.set_title('Mean annual cycle', fontsize=14, pad=5);\n",
    "\n",
    "plt.savefig('mslp.png', dpi=300, bbox_inches='tight')\n"
   ]
  },
  {
   "cell_type": "code",
   "execution_count": null,
   "id": "d3b69334-8e59-4350-bc91-5f10076f3ac6",
   "metadata": {},
   "outputs": [],
   "source": []
  }
 ],
 "metadata": {
  "kernelspec": {
   "display_name": "plot",
   "language": "python",
   "name": "plot"
  },
  "language_info": {
   "codemirror_mode": {
    "name": "ipython",
    "version": 3
   },
   "file_extension": ".py",
   "mimetype": "text/x-python",
   "name": "python",
   "nbconvert_exporter": "python",
   "pygments_lexer": "ipython3",
   "version": "3.9.17"
  }
 },
 "nbformat": 4,
 "nbformat_minor": 5
}
