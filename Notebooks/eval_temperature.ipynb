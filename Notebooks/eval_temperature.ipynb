{
 "cells": [
  {
   "cell_type": "markdown",
   "id": "f15afea1-9ea4-4201-bdd7-32ae377db6a9",
   "metadata": {},
   "source": [
    "# Evaluate ERA-5 downscaling: minimum and maximum temperatures"
   ]
  },
  {
   "cell_type": "markdown",
   "id": "7d2c4c86-18e4-44c4-bdf7-0e8249614749",
   "metadata": {},
   "source": [
    "We used **1981-1991 as training** period and **1991-2010 as reference** period. The results shown in this notebook are based on the model predictions on the reference period."
   ]
  },
  {
   "cell_type": "markdown",
   "id": "3b06b8f0-090e-4da6-87bf-be19c0dddd7d",
   "metadata": {},
   "source": [
    "**Predictors on pressure levels (500, 850)**:\n",
    "- Geopotential (z)\n",
    "- Temperature (t)\n",
    "- Zonal wind (u)\n",
    "- Meridional wind (v)\n",
    "- Specific humidity (q)\n",
    "\n",
    "**Predictors on surface**:\n",
    "- Surface pressure (p)\n",
    "\n",
    "**Auxiliary predictors**:\n",
    "- Elevation from Copernicus EU-DEM v1.1 (dem)\n",
    "- Day of the year (doy)"
   ]
  },
  {
   "cell_type": "markdown",
   "id": "4186c89c-b55b-4559-a818-8b712baaf44e",
   "metadata": {},
   "source": [
    "Define the predictand and the model to evaluate:"
   ]
  },
  {
   "cell_type": "code",
   "execution_count": null,
   "id": "741977c8-13e9-43b5-bfb4-c689041ff21f",
   "metadata": {},
   "outputs": [],
   "source": [
    "# define the predictand\n",
    "PREDICTAND = 'tasmin'  # 'tasmin' or 'tasmax'"
   ]
  },
  {
   "cell_type": "code",
   "execution_count": null,
   "id": "bd50716f-eeba-431a-97ce-24ea5d625090",
   "metadata": {},
   "outputs": [],
   "source": [
    "# define the model parameters\n",
    "MODEL = 'USegNet'\n",
    "PPREDICTORS = 'ztuvq'\n",
    "# PPREDICTORS = ''\n",
    "PLEVELS = ['500', '850']\n",
    "# PLEVELS = []\n",
    "SPREDICTORS = 'p'\n",
    "# SPREDICTORS = 'ppr'\n",
    "DEM = 'dem'\n",
    "DEM_FEATURES = ''\n",
    "DOY = 'doy'\n",
    "LOSS = 'L1Loss'\n",
    "# LOSS = 'MSELoss'\n",
    "OPTIM = 'SGD'\n",
    "# OPTIM = 'Adam'\n",
    "SEASON = ''\n",
    "DECAY = '1e-06'\n",
    "LR = '1e-03'"
   ]
  },
  {
   "cell_type": "code",
   "execution_count": null,
   "id": "d43149c7-ed56-4c91-9ce9-e8b226b48426",
   "metadata": {},
   "outputs": [],
   "source": [
    "# construct file pattern to match\n",
    "PATTERN = '_'.join([MODEL, PREDICTAND, PPREDICTORS, *PLEVELS])\n",
    "PATTERN = '_'.join([PATTERN, SPREDICTORS]) if SPREDICTORS else PATTERN\n",
    "PATTERN = '_'.join([PATTERN, DEM]) if DEM else PATTERN\n",
    "PATTERN = '_'.join([PATTERN, DEM_FEATURES]) if DEM_FEATURES else PATTERN\n",
    "PATTERN = '_'.join([PATTERN, DOY]) if DOY else PATTERN\n",
    "PATTERN = '_'.join([PATTERN, LOSS])\n",
    "PATTERN = '_'.join([PATTERN, OPTIM])\n",
    "PATTERN = '_'.join([PATTERN, SEASON]) if SEASON else PATTERN\n",
    "PATTERN = '_'.join([PATTERN, 'd{}'.format(DECAY)])\n",
    "PATTERN = '_'.join([PATTERN, 'lr{}'.format(LR)])\n",
    "PATTERN"
   ]
  },
  {
   "cell_type": "code",
   "execution_count": null,
   "id": "686a7c1d-e71d-4954-8d79-26b9a84f648e",
   "metadata": {},
   "outputs": [],
   "source": [
    "# mapping from predictands to variable names\n",
    "NAMES = {'tasmin': 'minimum temperature', 'tasmax': 'maximum temperature', 'pr': 'precipitation'}"
   ]
  },
  {
   "cell_type": "code",
   "execution_count": null,
   "id": "f1ae6427-67e3-4df3-b84a-5aad32504d79",
   "metadata": {},
   "outputs": [],
   "source": [
    "# whether to search for the defined pattern\n",
    "SEARCH = False    "
   ]
  },
  {
   "cell_type": "markdown",
   "id": "4d5d12c5-50fd-4c5c-9240-c3df78e49b44",
   "metadata": {},
   "source": [
    "### Imports"
   ]
  },
  {
   "cell_type": "code",
   "execution_count": null,
   "id": "1afb0fab-5d2a-4875-9032-29b99c6dec89",
   "metadata": {},
   "outputs": [],
   "source": [
    "# builtins\n",
    "import datetime\n",
    "import warnings\n",
    "import calendar\n",
    "\n",
    "# externals\n",
    "import xarray as xr\n",
    "import numpy as np\n",
    "import matplotlib.pyplot as plt\n",
    "from matplotlib import cm\n",
    "from matplotlib.colors import ListedColormap\n",
    "from mpl_toolkits.axes_grid1.inset_locator import inset_axes\n",
    "import scipy.stats as stats\n",
    "from IPython.display import Image\n",
    "from sklearn.metrics import r2_score\n",
    "\n",
    "# locals\n",
    "from climax.main.io import ERA5_PATH, OBS_PATH, TARGET_PATH, DEM_PATH, MODEL_PATH\n",
    "from climax.core.utils import plot_loss\n",
    "from climax.core.dataset import ERA5Dataset\n",
    "from pysegcnn.core.utils import search_files"
   ]
  },
  {
   "cell_type": "markdown",
   "id": "2c2d0b1d-9630-4cfe-ae9d-35b05b94a1a5",
   "metadata": {},
   "source": [
    "### Model architecture"
   ]
  },
  {
   "cell_type": "code",
   "execution_count": null,
   "id": "f98e1c9f-0581-43ea-a569-fd05fdaf36c1",
   "metadata": {},
   "outputs": [],
   "source": [
    "Image(\"./Figures/architecture.png\", width=900, height=400)"
   ]
  },
  {
   "cell_type": "markdown",
   "id": "1db1f750-7d74-48ea-a385-94595a1da724",
   "metadata": {},
   "source": [
    "### Loss function"
   ]
  },
  {
   "cell_type": "markdown",
   "id": "eb4ac3ea-213a-4391-8c88-909f6288de63",
   "metadata": {},
   "source": [
    "For temperature, the network is optimizing the mean-squared error (negative log-likelihood of normal distribution):"
   ]
  },
  {
   "cell_type": "markdown",
   "id": "83bd9d8f-91b4-45f5-b58e-3551a942661a",
   "metadata": {},
   "source": [
    "$$\\mathcal{J}(y_{pred} \\mid y_{true}) = \\left(y_{pred} - y_{true}\\right)^2$$"
   ]
  },
  {
   "cell_type": "markdown",
   "id": "f47caa41-9380-4c02-8785-4febcf2cb2d0",
   "metadata": {},
   "source": [
    "### Load datasets"
   ]
  },
  {
   "cell_type": "code",
   "execution_count": null,
   "id": "ad84738f-3600-47e4-8178-4ee4ad5e3fc3",
   "metadata": {},
   "outputs": [],
   "source": [
    "# digital elevation model\n",
    "dem = xr.open_dataset(search_files(DEM_PATH, 'eu_dem_v11_stt.nc').pop())\n",
    "dem = dem.Band1.to_dataset().rename({'Band1': 'elevation'})"
   ]
  },
  {
   "cell_type": "code",
   "execution_count": null,
   "id": "020dfe33-ce3c-467f-ad0a-295cc338b1a9",
   "metadata": {},
   "outputs": [],
   "source": [
    "# model predictions\n",
    "if SEARCH:\n",
    "    y_pred = xr.open_dataset(search_files(TARGET_PATH.joinpath(PREDICTAND), '.'.join([PATTERN, 'nc$'])).pop())\n",
    "else:\n",
    "    filename = 'USegNet_tasmin_ztuvq_500_850_p_dem_doy_L1Loss_Adam_d1e-05.nc'\n",
    "    file = TARGET_PATH.joinpath(PREDICTAND, filename)\n",
    "    y_pred = xr.open_dataset(file)"
   ]
  },
  {
   "cell_type": "code",
   "execution_count": null,
   "id": "8bb55ddf-1d19-4f1a-8b31-9da778b287fd",
   "metadata": {},
   "outputs": [],
   "source": [
    "# observations\n",
    "if PREDICTAND == 'tas':\n",
    "    # read both tasmax and tasmin\n",
    "    tasmax = xr.open_dataset(search_files(OBS_PATH.joinpath('tasmax'), '.nc$').pop())\n",
    "    tasmin = xr.open_dataset(search_files(OBS_PATH.joinpath('tasmin'), '.nc$').pop())\n",
    "    y_true = xr.merge([tasmax, tasmin])\n",
    "else:\n",
    "    y_true = xr.open_dataset(search_files(OBS_PATH.joinpath(PREDICTAND), '.nc$').pop())"
   ]
  },
  {
   "cell_type": "code",
   "execution_count": null,
   "id": "1dc2a386-d63b-4c6a-8e63-00365927559d",
   "metadata": {},
   "outputs": [],
   "source": [
    "# subset to time period covered by predictions\n",
    "y_true = y_true.sel(time=y_pred.time)"
   ]
  },
  {
   "cell_type": "markdown",
   "id": "06dcb26f-f8e0-4365-9279-871bc35492f9",
   "metadata": {},
   "source": [
    "### Load ERA-5 reference dataset"
   ]
  },
  {
   "cell_type": "code",
   "execution_count": null,
   "id": "8f20564f-3f1b-4da6-b625-f2d0c6392249",
   "metadata": {},
   "outputs": [],
   "source": [
    "# search ERA-5 reference dataset\n",
    "y_refe = xr.open_dataset(search_files(ERA5_PATH.joinpath('ERA5', '2m_{}_temperature'.format(PREDICTAND.lstrip('tas'))), '.nc$').pop())"
   ]
  },
  {
   "cell_type": "code",
   "execution_count": null,
   "id": "f7b2fe84-131d-485a-a6e7-3c47135447e1",
   "metadata": {},
   "outputs": [],
   "source": [
    "# convert to °C\n",
    "y_refe = y_refe - 273.15"
   ]
  },
  {
   "cell_type": "code",
   "execution_count": null,
   "id": "6be4c268-df97-4bd0-948a-cc1943a3c0fb",
   "metadata": {},
   "outputs": [],
   "source": [
    "# subset to time period covered by predictions\n",
    "y_refe = y_refe.sel(time=y_pred.time).drop_vars('lambert_azimuthal_equal_area')\n",
    "y_refe = y_refe.rename({'t2m': PREDICTAND})"
   ]
  },
  {
   "cell_type": "code",
   "execution_count": null,
   "id": "9c7efab4-0cd2-4f6d-afbd-5e284d2bda9d",
   "metadata": {},
   "outputs": [],
   "source": [
    "# align datasets and mask missing values in model predictions\n",
    "y_true, y_refe, y_pred = xr.align(y_true[PREDICTAND], y_refe[PREDICTAND], y_pred[PREDICTAND], join='override')\n",
    "y_pred = y_pred.where(~np.isnan(y_true), other=np.nan)\n",
    "y_refe = y_refe.where(~np.isnan(y_true), other=np.nan)"
   ]
  },
  {
   "cell_type": "code",
   "execution_count": null,
   "id": "dee1b549-c5a6-44cd-9fe2-563ccfea658d",
   "metadata": {},
   "outputs": [],
   "source": [
    "# align digital elevation model\n",
    "_, dem = xr.align(y_true.isel(time=0), dem, join='override')\n",
    "dem = dem.where(~np.isnan(y_true.isel(time=0)), other=np.nan)"
   ]
  },
  {
   "cell_type": "markdown",
   "id": "9a696a5c-1de8-4027-b3f8-64045b7333fb",
   "metadata": {},
   "source": [
    "### Model convergence"
   ]
  },
  {
   "cell_type": "code",
   "execution_count": null,
   "id": "98349528-6a4d-469f-86f4-60ce4d18e719",
   "metadata": {},
   "outputs": [],
   "source": [
    "# plot model state\n",
    "model_state = MODEL_PATH.joinpath(PREDICTAND, '.'.join([PATTERN, 'pt']))\n",
    "try:\n",
    "    fig = plot_loss(model_state, step=5)\n",
    "except FileNotFoundError:\n",
    "    pass"
   ]
  },
  {
   "cell_type": "markdown",
   "id": "ddebdf9f-862c-461e-aa57-cd344d54eee9",
   "metadata": {},
   "source": [
    "## Model validation"
   ]
  },
  {
   "cell_type": "code",
   "execution_count": null,
   "id": "dda74f76-2b3e-484c-b56d-d1d3d23784c2",
   "metadata": {},
   "outputs": [],
   "source": [
    "# calculate monthly means\n",
    "y_pred_mm = y_pred.groupby('time.month').mean(dim=('time'))\n",
    "y_true_mm = y_true.groupby('time.month').mean(dim=('time'))"
   ]
  },
  {
   "cell_type": "code",
   "execution_count": null,
   "id": "0993676b-19de-4426-9c8c-c3897b4f9bf7",
   "metadata": {},
   "outputs": [],
   "source": [
    "# calculate mean annual cycle\n",
    "y_pred_ac = y_pred_mm.mean(dim=('x', 'y'))\n",
    "y_true_ac = y_true_mm.mean(dim=('x', 'y'))"
   ]
  },
  {
   "cell_type": "code",
   "execution_count": null,
   "id": "c3e5f725-9d6a-4837-88a6-7ad1baa06027",
   "metadata": {},
   "outputs": [],
   "source": [
    "# compute daily anomalies\n",
    "y_pred_anom = ERA5Dataset.anomalies(y_pred, timescale='time.month')\n",
    "y_true_anom = ERA5Dataset.anomalies(y_true, timescale='time.month')"
   ]
  },
  {
   "cell_type": "markdown",
   "id": "ab15d557-c7ea-40c0-9977-a3d410fea784",
   "metadata": {},
   "source": [
    "### Coefficient of determination"
   ]
  },
  {
   "cell_type": "code",
   "execution_count": null,
   "id": "619d5dc9-4d36-43a3-b23c-a4ea51229c78",
   "metadata": {},
   "outputs": [],
   "source": [
    "# get predicted and observed daily anomalies\n",
    "y_pred_av = y_pred_anom.values.flatten()\n",
    "y_true_av = y_true_anom.values.flatten()\n",
    "\n",
    "# apply mask of valid pixels\n",
    "mask = (~np.isnan(y_pred_av) & ~np.isnan(y_true_av))\n",
    "y_pred_av = y_pred_av[mask]\n",
    "y_true_av = y_true_av[mask]\n",
    "\n",
    "# get predicted and observed monthly means\n",
    "y_pred_mv = y_pred_mm.values.flatten()\n",
    "y_true_mv = y_true_mm.values.flatten()\n",
    "\n",
    "# apply mask of valid pixels\n",
    "mask = (~np.isnan(y_pred_mv) & ~np.isnan(y_true_mv))\n",
    "y_pred_mv = y_pred_mv[mask]\n",
    "y_true_mv = y_true_mv[mask]\n",
    "\n",
    "# calculate coefficient of determination on monthly means\n",
    "r2_mm = r2_score(y_true_mv, y_pred_mv)\n",
    "print('R2 on monthly means: {:.2f}'.format(r2_mm))\n",
    "\n",
    "# calculate coefficient of determination on daily anomalies\n",
    "r2_anom = r2_score(y_true_av, y_pred_av)\n",
    "print('R2 on daily anomalies: {:.2f}'.format(r2_anom))"
   ]
  },
  {
   "cell_type": "code",
   "execution_count": null,
   "id": "703ab604-5193-4032-92eb-80f2cff9fc2c",
   "metadata": {},
   "outputs": [],
   "source": [
    "# scatter plot of observations vs. predictions\n",
    "fig, ax = plt.subplots(1, 1, figsize=(10, 10))\n",
    "\n",
    "# plot only a subset of data: otherwise plot is overloaded ...\n",
    "# subset = np.random.choice(np.arange(0, len(y_pred_values)), size=int(1e7), replace=False)\n",
    "# ax.plot(y_true_values[subset], y_pred_values[subset], 'o', alpha=.5, markeredgecolor='grey', markerfacecolor='none', markersize=3);\n",
    "\n",
    "# plot entire dataset\n",
    "ax.plot(y_true_mv, y_pred_mv, 'o', alpha=.5, markeredgecolor='grey', markerfacecolor='none', markersize=3);\n",
    "\n",
    "# plot 1:1 mapping line\n",
    "if PREDICTAND == 'tasmin':\n",
    "    interval = np.arange(-25, 30, 5)\n",
    "else:\n",
    "    interval = np.arange(-15, 45, 5)\n",
    "ax.plot(interval, interval, color='k', lw=2, ls='--')\n",
    "\n",
    "# add coefficients of determination\n",
    "ax.text(interval[-1] - 0.5, interval[0] + 0.5, s='R$^2$ (monthly means)= {:.2f}'.format(r2_mm), ha='right', fontsize=18)\n",
    "ax.text(interval[-1] - 0.5, interval[0] + 2.5, s='R$^2$ (daily anomalies) = {:.2f}'.format(r2_anom), ha='right', fontsize=18)\n",
    "\n",
    "# format axes\n",
    "ax.set_ylim(interval[0], interval[-1])\n",
    "ax.set_xlim(interval[0], interval[-1])\n",
    "ax.set_xticks(interval)\n",
    "ax.set_xticklabels(interval, fontsize=16)\n",
    "ax.set_yticks(interval)\n",
    "ax.set_yticklabels(interval, fontsize=16)\n",
    "ax.set_xlabel('Observed', fontsize=18)\n",
    "ax.set_ylabel('Predicted', fontsize=18)\n",
    "ax.set_title('Monthly mean {} (°C)'.format(NAMES[PREDICTAND]), fontsize=20, pad=10);\n",
    "\n",
    "# add axis for annual cycle\n",
    "axins = inset_axes(ax, width=\"30%\", height=\"40%\", loc=2, borderpad=1)\n",
    "axins.plot(y_pred_ac.values, ls='--', color='k', label='Predicted')\n",
    "axins.plot(y_true_ac.values, ls='-', color='k', label='Observed')\n",
    "axins.legend(frameon=False, fontsize=12, loc='lower center');\n",
    "axins.yaxis.tick_right()\n",
    "axins.set_yticks(np.arange(-10, 11, 2) if PREDICTAND == 'tasmin' else np.arange(0, 20, 2))\n",
    "axins.set_yticklabels(np.arange(-10, 11, 2) if PREDICTAND == 'tasmin' else np.arange(0, 20, 2), fontsize=12)\n",
    "axins.set_xticks(np.arange(0, 12))\n",
    "axins.set_xticklabels([calendar.month_name[i + 1] for i in np.arange(0, 12)], rotation=90, fontsize=12)\n",
    "axins.set_title('Mean annual cycle', fontsize=14, pad=5);\n",
    "\n",
    "# save figure\n",
    "fig.savefig('../Notebooks/Figures/{}_r2_{}.png'.format(PREDICTAND, LOSS), dpi=300, bbox_inches='tight')"
   ]
  },
  {
   "cell_type": "markdown",
   "id": "4e50ff44-5598-4694-9ea3-b06ee50ee21f",
   "metadata": {
    "tags": []
   },
   "source": [
    "### Coefficient of determination: Spatially"
   ]
  },
  {
   "cell_type": "code",
   "execution_count": null,
   "id": "816fad18-b365-4c62-b669-e13e7dc8d322",
   "metadata": {},
   "outputs": [],
   "source": [
    "# iterate over the grid points\n",
    "r2 = np.ones((2, len(y_pred.x), len(y_pred.y)), dtype=np.float32) * np.nan\n",
    "for i, _ in enumerate(y_pred.x):\n",
    "    for j, _ in enumerate(y_pred.y):\n",
    "        # get observed and predicted monthly mean temperature for current grid point\n",
    "        point_true = y_true_mm.isel(x=i, y=j)\n",
    "        point_pred = y_pred_mm.isel(x=i, y=j)\n",
    "\n",
    "        # remove missing values\n",
    "        mask = ((~np.isnan(point_true)) & (~np.isnan(point_pred)))\n",
    "        point_true = point_true[mask].values\n",
    "        point_pred = point_pred[mask].values\n",
    "        if point_true.size < 1:\n",
    "            continue\n",
    "        \n",
    "        # get anomalies for current grid point\n",
    "        point_anom_true = y_true_anom.isel(x=i, y=j)\n",
    "        point_anom_pred = y_pred_anom.isel(x=i, y=j)\n",
    "        \n",
    "        # remove missing values\n",
    "        mask_anom = ((~np.isnan(point_anom_true)) & (~np.isnan(point_anom_pred)))\n",
    "        point_anom_true = point_anom_true[mask_anom].values\n",
    "        point_anom_pred = point_anom_pred[mask_anom].values\n",
    "\n",
    "        # compute coefficient of determination\n",
    "        r2[0, j, i] = r2_score(point_true, point_pred)\n",
    "        r2[1, j, i] = r2_score(point_anom_true, point_anom_pred)"
   ]
  },
  {
   "cell_type": "code",
   "execution_count": null,
   "id": "b0f0e83c-3dfd-46dd-bd02-7ff1ba8f8573",
   "metadata": {},
   "outputs": [],
   "source": [
    "# define color map: red to green\n",
    "grn = cm.get_cmap('Greens', 128)\n",
    "red = cm.get_cmap('Reds_r', 128)\n",
    "red2green = ListedColormap(np.vstack((red(np.linspace(0, 1, 128)),\n",
    "                                      grn(np.linspace(0, 1, 128)))))\n",
    "\n",
    "# plot coefficient of determination\n",
    "vmin, vmax = -1, 1\n",
    "fig, ax = plt.subplots(1, 2, figsize=(10, 10))\n",
    "\n",
    "# monthly means\n",
    "im0 = ax[0].imshow(r2[0, :], origin='lower', cmap=red2green, vmin=vmin, vmax=vmax)\n",
    "ax[0].text(x=r2.shape[1] - 2, y=2, s='Average R$^2$: {:.2f}'.format(np.nanmean(r2[0, :])), fontsize=14, ha='right');\n",
    "ax[0].set_axis_off()\n",
    "ax[0].set_title('Monthly mean {} (°C)'.format(NAMES[PREDICTAND]), fontsize=14, pad=10);\n",
    "\n",
    "# daily anomalies\n",
    "im1 = ax[1].imshow(r2[1, :], origin='lower', cmap=red2green, vmin=vmin, vmax=vmax)\n",
    "ax[1].text(x=r2.shape[1] - 2, y=2, s='Average R$^2$: {:.2f}'.format(np.nanmean(r2[1, :])), fontsize=14, ha='right');\n",
    "ax[1].set_axis_off()\n",
    "ax[1].set_title('Daily {} anomaly (°C)'.format(NAMES[PREDICTAND]), fontsize=14, pad=10);\n",
    "\n",
    "# add colorbar \n",
    "cbar_ax_bias = fig.add_axes([ax[1].get_position().x1 + 0.05, ax[1].get_position().y0,\n",
    "                             0.03, ax[1].get_position().y1 - ax[1].get_position().y0])\n",
    "cbar_bias = fig.colorbar(im0, cax=cbar_ax_bias)\n",
    "cbar_bias.set_label(label='Coefficient of determination R$^2$', fontsize=14)\n",
    "cbar_bias.ax.tick_params(labelsize=14, pad=10)\n",
    "\n",
    "# save figure\n",
    "fig.savefig('../Notebooks/Figures/{}_r2_spatial_{}.png'.format(PREDICTAND, LOSS), dpi=300, bbox_inches='tight')"
   ]
  },
  {
   "cell_type": "markdown",
   "id": "5e8be24e-8ca2-4582-98c0-b56c6db289d2",
   "metadata": {},
   "source": [
    "### Bias"
   ]
  },
  {
   "cell_type": "markdown",
   "id": "a4f7177c-7d09-401f-957b-0e493b9ef5d0",
   "metadata": {},
   "source": [
    "Calculate yearly average bias over entire reference period:"
   ]
  },
  {
   "cell_type": "code",
   "execution_count": null,
   "id": "746bf95f-a78b-4da8-a063-1fa48e3c5da8",
   "metadata": {},
   "outputs": [],
   "source": [
    "# yearly average bias over reference period\n",
    "y_pred_yearly_avg = y_pred.groupby('time.year').mean(dim='time')\n",
    "y_refe_yearly_avg = y_refe.groupby('time.year').mean(dim='time')\n",
    "y_true_yearly_avg = y_true.groupby('time.year').mean(dim='time')\n",
    "bias_yearly_avg = y_pred_yearly_avg - y_true_yearly_avg\n",
    "bias_yearly_avg_ref = y_refe_yearly_avg - y_true_yearly_avg\n",
    "print('(Model) Yearly average bias of {}: {:.2f}°C'.format(PREDICTAND, bias_yearly_avg.mean().item()))\n",
    "print('(ERA-5) Yearly average bias of {}: {:.2f}°C'.format(PREDICTAND, bias_yearly_avg_ref.mean().item()))"
   ]
  },
  {
   "cell_type": "code",
   "execution_count": null,
   "id": "fa14fadb-0f76-4962-80cb-e69cd7f5fac5",
   "metadata": {},
   "outputs": [],
   "source": [
    "# mean absolute error over reference period\n",
    "mae_avg = np.abs(y_pred_yearly_avg - y_true_yearly_avg).mean()\n",
    "mae_avg_ref = np.abs(y_refe_yearly_avg - y_true_yearly_avg).mean()\n",
    "print('(Model) Yearly average MAE of {}: {:.2f}°C'.format(PREDICTAND, mae_avg.mean().item()))\n",
    "print('(ERA-5) Yearly average MAE of {}: {:.2f}°C'.format(PREDICTAND, mae_avg_ref.mean().item()))"
   ]
  },
  {
   "cell_type": "code",
   "execution_count": null,
   "id": "d2c50119-3cee-43c5-838b-e84639af55db",
   "metadata": {},
   "outputs": [],
   "source": [
    "# root mean squared error over reference period\n",
    "rmse_avg = np.sqrt(((y_pred_yearly_avg - y_true_yearly_avg) ** 2).mean())\n",
    "rmse_avg_ref = np.sqrt(((y_refe_yearly_avg - y_true_yearly_avg) ** 2).mean())\n",
    "print('(Model) Yearly average RMSE of {}: {:.2f}°C'.format(PREDICTAND, rmse_avg.mean().item()))\n",
    "print('(ERA-5) Yearly average RMSE of {}: {:.2f}°C'.format(PREDICTAND, rmse_avg_ref.mean().item()))"
   ]
  },
  {
   "cell_type": "code",
   "execution_count": null,
   "id": "ed54a50e-41c2-4a7f-9839-05357996f0c4",
   "metadata": {},
   "outputs": [],
   "source": [
    "# Pearson's correlation coefficient over reference period\n",
    "correlations = []\n",
    "for year in y_pred_yearly_avg.year:\n",
    "    y_p = y_pred_yearly_avg.sel(year=year).values        \n",
    "    y_t = y_true_yearly_avg.sel(year=year).values\n",
    "    r, _ = stats.pearsonr(y_p[~np.isnan(y_p)], y_t[~np.isnan(y_t)])\n",
    "    print('({:d}): {:.2f}'.format(year.item(), r))\n",
    "    correlations.append(r)\n",
    "print('Yearly average Pearson correlation coefficient for {}: {:.2f}'.format(PREDICTAND, np.asarray(r).mean()))"
   ]
  },
  {
   "cell_type": "code",
   "execution_count": null,
   "id": "4ec9b998-bc6c-4ef4-a602-ed87ae3260ae",
   "metadata": {},
   "outputs": [],
   "source": [
    "# plot yearly average bias of reference vs. prediction\n",
    "vmin, vmax = -2, 2\n",
    "fig, axes = plt.subplots(1, 2, figsize=(16, 8), sharex=True, sharey=True)\n",
    "\n",
    "# plot bias of ERA-5 reference\n",
    "reference = bias_yearly_avg_ref.mean(dim='year')\n",
    "im1 = axes[0].imshow(reference.values, origin='lower', cmap='RdBu_r', vmin=vmin, vmax=vmax)\n",
    "axes[0].text(x=reference.shape[0] - 2, y=2, s='Average: {:.2f}°C'.format(reference.mean().item()), fontsize=14, ha='right')\n",
    "\n",
    "# plot MAE of model\n",
    "prediction = bias_yearly_avg.mean(dim='year')\n",
    "im2 = axes[1].imshow(prediction.values, origin='lower', cmap='RdBu_r', vmin=vmin, vmax=vmax)\n",
    "axes[1].text(x=reference.shape[0] - 2, y=2, s='Average: {:.2f}°C'.format(prediction.mean().item()), fontsize=14, ha='right')\n",
    "\n",
    "# plot topography\n",
    "# im_dem = axes[2].imshow(dem['elevation'].values, origin='lower', cmap='terrain', vmin=0, vmax=4000)\n",
    "\n",
    "# set titles\n",
    "axes[0].set_title('ERA-5', fontsize=14, pad=10);\n",
    "axes[1].set_title('DCEDN', fontsize=14, pad=10);\n",
    "# axes[2].set_title('Copernicus EU-DEM v1.1', fontsize=14, pad=10)\n",
    "\n",
    "# adjust axes\n",
    "for ax in axes.flat:\n",
    "    ax.axes.get_xaxis().set_ticklabels([])\n",
    "    ax.axes.get_xaxis().set_ticks([])\n",
    "    ax.axes.get_yaxis().set_ticklabels([])\n",
    "    ax.axes.get_yaxis().set_ticks([])\n",
    "    ax.axes.axis('tight')\n",
    "    ax.set_xlabel('')\n",
    "    ax.set_ylabel('')\n",
    "    ax.set_axis_off()\n",
    "\n",
    "# adjust figure\n",
    "# fig.suptitle('Average yearly mean absolute error: 1991 - 2010', fontsize=20);\n",
    "fig.subplots_adjust(hspace=0, wspace=0, top=0.85)\n",
    "\n",
    "# add colorbar for dem\n",
    "axes = axes.flatten()\n",
    "# cbar_ax_bias = fig.add_axes([axes[-1].get_position().x1 + 0.01, axes[-1].get_position().y0,\n",
    "#                              0.01, axes[-1].get_position().y1 - axes[-1].get_position().y0])\n",
    "# cbar_bias = fig.colorbar(im_dem, cax=cbar_ax_bias)\n",
    "# cbar_bias.set_label(label='Elevation (m)', fontsize=14)\n",
    "# cbar_bias.ax.tick_params(labelsize=14, pad=10)\n",
    "\n",
    "# add colorbar for predictand\n",
    "cbar_ax_predictand = fig.add_axes([axes[0].get_position().x0, axes[0].get_position().y0 - 0.1,\n",
    "                                   axes[-1].get_position().x0 - axes[0].get_position().x0,\n",
    "                                   0.03])\n",
    "cbar_predictand = fig.colorbar(im1, cax=cbar_ax_predictand, orientation='horizontal')\n",
    "cbar_predictand.set_label(label='Mean error (°C)', fontsize=14)\n",
    "cbar_predictand.ax.tick_params(labelsize=14, pad=10)\n",
    "\n",
    "# add metrics: MAE and RMSE\n",
    "#axes[1].text(x=ds.shape[0] - 2, y=2, s='MAE = {:.1f}'.format(mae_avg[NAMES[PREDICTAND]].item()) + 'mm day$^{-1}$', fontsize=14, ha='right')\n",
    "#axes[1].text(x=ds.shape[0] - 2, y=12, s='RMSE = {:.1f}'.format(rmse_avg[NAMES[PREDICTAND]].item()) + 'mm$^2$ day$^{-2}$', fontsize=14, ha='right')\n",
    "\n",
    "# save figure\n",
    "fig.savefig('../Notebooks/Figures/{}_rbias_ERA_{}.png'.format(PREDICTAND, LOSS), dpi=300, bbox_inches='tight')"
   ]
  },
  {
   "cell_type": "code",
   "execution_count": null,
   "id": "760f86ce-9e04-4938-b24f-d2819fbf622e",
   "metadata": {},
   "outputs": [],
   "source": [
    "# plot average of observation, prediction, and bias\n",
    "vmin, vmax = (-15, 15) if PREDICTAND == 'tasmin' else (0, 25)\n",
    "fig, axes = plt.subplots(1, 3, figsize=(24, 8), sharex=True, sharey=True)\n",
    "axes = axes.flatten()\n",
    "for ds, ax in zip([y_true_yearly_avg, y_pred_yearly_avg, bias_yearly_avg], axes):\n",
    "    if ds is bias_yearly_avg:\n",
    "        ds = ds.mean(dim='year')\n",
    "        im2 = ax.imshow(ds.values, origin='lower', cmap='RdBu_r', vmin=-2, vmax=2)\n",
    "        ax.text(x=ds.shape[0] - 2, y=2, s='Average: {:.2f}°C'.format(ds.mean().item()), fontsize=14, ha='right')\n",
    "    else:\n",
    "        im1 = ax.imshow(ds.mean(dim='year').values, origin='lower', cmap='RdYlBu_r', vmin=vmin, vmax=vmax)\n",
    "        \n",
    "# set titles\n",
    "axes[0].set_title('Observed', fontsize=16, pad=10);\n",
    "axes[1].set_title('Predicted', fontsize=16, pad=10);\n",
    "axes[2].set_title('Bias', fontsize=16, pad=10);\n",
    "\n",
    "# adjust axes\n",
    "for ax in axes.flat:\n",
    "    ax.axes.get_xaxis().set_ticklabels([])\n",
    "    ax.axes.get_xaxis().set_ticks([])\n",
    "    ax.axes.get_yaxis().set_ticklabels([])\n",
    "    ax.axes.get_yaxis().set_ticks([])\n",
    "    ax.axes.axis('tight')\n",
    "    ax.set_xlabel('')\n",
    "    ax.set_ylabel('')\n",
    "\n",
    "# adjust figure\n",
    "fig.suptitle('Average {}: 1991 - 2010'.format(NAMES[PREDICTAND]), fontsize=20);\n",
    "fig.subplots_adjust(hspace=0, wspace=0, top=0.85)\n",
    "\n",
    "# add colorbar for bias\n",
    "axes = axes.flatten()\n",
    "cbar_ax_bias = fig.add_axes([axes[-1].get_position().x1 + 0.01, axes[-1].get_position().y0,\n",
    "                             0.01, axes[-1].get_position().y1 - axes[-1].get_position().y0])\n",
    "cbar_bias = fig.colorbar(im2, cax=cbar_ax_bias)\n",
    "cbar_bias.set_label(label='Bias / (°C)', fontsize=16)\n",
    "cbar_bias.ax.tick_params(labelsize=14)\n",
    "\n",
    "# add colorbar for predictand\n",
    "cbar_ax_predictand = fig.add_axes([axes[0].get_position().x0, axes[0].get_position().y0 - 0.1,\n",
    "                                   axes[-1].get_position().x0 - axes[0].get_position().x0,\n",
    "                                   0.05])\n",
    "cbar_predictand = fig.colorbar(im1, cax=cbar_ax_predictand, orientation='horizontal')\n",
    "cbar_predictand.set_label(label='{} / (°C)'.format(NAMES[PREDICTAND].capitalize()), fontsize=16)\n",
    "cbar_predictand.ax.tick_params(labelsize=14)\n",
    "\n",
    "# add metrics: MAE and RMSE\n",
    "axes[1].text(x=ds.shape[0] - 2, y=2, s='MAE = {:.2f}°C'.format(mae_avg.mean().item()), fontsize=14, ha='right')\n",
    "axes[1].text(x=ds.shape[0] - 2, y=12, s='RMSE = {:.2f}°C'.format(rmse_avg.mean().item()), fontsize=14, ha='right')\n",
    "\n",
    "# save figure\n",
    "fig.savefig('../Notebooks/Figures/{}_average_bias.png'.format(PREDICTAND), dpi=300, bbox_inches='tight')"
   ]
  },
  {
   "cell_type": "markdown",
   "id": "aa4ef730-5a9d-40dc-a318-2f43a4cf1cd2",
   "metadata": {},
   "source": [
    "### Seasonal bias"
   ]
  },
  {
   "cell_type": "markdown",
   "id": "eda455a2-e8ee-4644-bb85-b0cf76acd11a",
   "metadata": {},
   "source": [
    "Calculate seasonal bias:"
   ]
  },
  {
   "cell_type": "code",
   "execution_count": null,
   "id": "8b781300-2639-437d-9875-f57306715c80",
   "metadata": {},
   "outputs": [],
   "source": [
    "# group data by season: (DJF, MAM, JJA, SON)\n",
    "y_true_snl = y_true.groupby('time.season').mean(dim='time')\n",
    "y_pred_snl = y_pred.groupby('time.season').mean(dim='time')\n",
    "y_refe_snl = y_refe.groupby('time.season').mean(dim='time')\n",
    "bias_snl = y_pred_snl - y_true_snl\n",
    "bias_snl_ref = y_refe_snl - y_true_snl"
   ]
  },
  {
   "cell_type": "code",
   "execution_count": null,
   "id": "b148ec7e-f832-40f2-b287-c0351e7e1aad",
   "metadata": {},
   "outputs": [],
   "source": [
    "# print average bias per season: ERA-5\n",
    "for season in bias_snl_ref.season:\n",
    "    print('(ERA-5) Average bias of mean {} for season {}: {:.1f}°C'.format(PREDICTAND, season.item(), bias_snl_ref.sel(season=season).mean().item()))"
   ]
  },
  {
   "cell_type": "code",
   "execution_count": null,
   "id": "e54daae8-ea32-431f-8a34-f92d95e7627e",
   "metadata": {},
   "outputs": [],
   "source": [
    "# print average bias per season: model\n",
    "for season in bias_snl.season:\n",
    "    print('(Model) Average bias of mean {} for season {}: {:.1f}°C'.format(PREDICTAND, season.item(), bias_snl.sel(season=season).mean().item()))"
   ]
  },
  {
   "cell_type": "markdown",
   "id": "c4232ae9-a557-4d61-8ab3-d7eda6201f98",
   "metadata": {},
   "source": [
    "Plot seasonal differences, taken from the [xarray documentation](xarray.pydata.org/en/stable/examples/monthly-means.html)."
   ]
  },
  {
   "cell_type": "code",
   "execution_count": null,
   "id": "b39a6cc0-614c-452d-bb85-bc10e5179948",
   "metadata": {},
   "outputs": [],
   "source": [
    "# plot seasonal differences\n",
    "seasons = ('DJF', 'JJA')\n",
    "fig, axes = plt.subplots(nrows=1, ncols=len(seasons) + 1, figsize=(24, 8), sharex=True, sharey=True)\n",
    "axes = axes.flatten()\n",
    "\n",
    "# plot annual average bias\n",
    "ds = bias_yearly_avg.mean(dim='year')\n",
    "im = axes[0].imshow(ds.values, origin='lower', cmap='RdBu_r', vmin=-2, vmax=2)\n",
    "axes[0].set_title('Annual', fontsize=16);\n",
    "axes[0].text(x=ds.shape[0] - 2, y=2, s='Average: {:.2f}°C'.format(ds.mean().item()), fontsize=14, ha='right')\n",
    "\n",
    "# plot seasonal average bias\n",
    "for ax, season in zip(axes[1:], seasons):\n",
    "    ds = bias_snl.sel(season=season)\n",
    "    ax.imshow(ds.values, origin='lower', cmap='RdBu_r', vmin=-2, vmax=2)\n",
    "    ax.set_title(season, fontsize=16);\n",
    "    ax.text(x=ds.shape[0] - 2, y=2, s='Average: {:.2f}°C'.format(ds.mean().item()), fontsize=14, ha='right')\n",
    "\n",
    "# adjust axes\n",
    "for ax in axes.flat:\n",
    "    ax.axes.get_xaxis().set_ticklabels([])\n",
    "    ax.axes.get_xaxis().set_ticks([])\n",
    "    ax.axes.get_yaxis().set_ticklabels([])\n",
    "    ax.axes.get_yaxis().set_ticks([])\n",
    "    ax.axes.axis('tight')\n",
    "    ax.set_xlabel('')\n",
    "    ax.set_ylabel('')\n",
    "\n",
    "# adjust figure\n",
    "fig.suptitle('Average bias of {}: 1991 - 2010'.format(NAMES[PREDICTAND]), fontsize=20);\n",
    "fig.subplots_adjust(hspace=0, wspace=0, top=0.85)\n",
    "\n",
    "# add colorbar\n",
    "cbar_ax_predictand = fig.add_axes([axes[-1].get_position().x1 + 0.01, axes[-1].get_position().y0,\n",
    "                                   0.01, axes[0].get_position().y1 - axes[-1].get_position().y0])\n",
    "cbar_predictand = fig.colorbar(im, cax=cbar_ax_predictand)\n",
    "cbar_predictand.set_label(label='Bias / (°C)', fontsize=16)\n",
    "cbar_predictand.ax.tick_params(labelsize=14)\n",
    "\n",
    "# save figure\n",
    "fig.savefig('../Notebooks/Figures/{}_bias_seasonal_{}.png'.format(PREDICTAND, LOSS), dpi=300, bbox_inches='tight')"
   ]
  },
  {
   "cell_type": "markdown",
   "id": "c70b369d-2d16-42e3-9300-4a18757ad1b2",
   "metadata": {},
   "source": [
    "### Bias of extreme values"
   ]
  },
  {
   "cell_type": "code",
   "execution_count": null,
   "id": "33198267-8eb6-4b84-bb6d-c903b27ccbc5",
   "metadata": {},
   "outputs": [],
   "source": [
    "# extreme quantile of interest\n",
    "quantile = 0.02 if PREDICTAND == 'tasmin' else 0.98"
   ]
  },
  {
   "cell_type": "code",
   "execution_count": null,
   "id": "8fd82b83-0824-4663-846c-53fc3afbc7d1",
   "metadata": {},
   "outputs": [],
   "source": [
    "# calculate extreme quantile for each year\n",
    "with warnings.catch_warnings():\n",
    "    warnings.simplefilter('ignore', category=RuntimeWarning)\n",
    "    y_pred_ex = y_pred.groupby('time.year').quantile(quantile, dim='time')\n",
    "    y_true_ex = y_true.groupby('time.year').quantile(quantile, dim='time')\n",
    "    y_refe_ex = y_refe.groupby('time.year').quantile(quantile, dim='time')"
   ]
  },
  {
   "cell_type": "code",
   "execution_count": null,
   "id": "822984f8-cdaa-410b-96e8-e58da39ba40d",
   "metadata": {},
   "outputs": [],
   "source": [
    "# calculate bias in extreme quantile for each year\n",
    "bias_ex = y_pred_ex - y_true_ex\n",
    "bias_ex_ref = y_refe_ex - y_true_ex"
   ]
  },
  {
   "cell_type": "code",
   "execution_count": null,
   "id": "efd902ee-1154-4b0c-bfbd-a64ace625e76",
   "metadata": {},
   "outputs": [],
   "source": [
    "# bias of extreme quantile: ERA-5\n",
    "print('(ERA-5) Yearly average bias for P{:.0f} of {}: {:.1f}°C'.format(quantile * 100, PREDICTAND, bias_ex_ref.mean().item()))"
   ]
  },
  {
   "cell_type": "code",
   "execution_count": null,
   "id": "9343d8a4-07a6-4c9c-85f6-f670efe7c6cd",
   "metadata": {},
   "outputs": [],
   "source": [
    "# bias of extreme quantile: Model\n",
    "print('(Model) Yearly average bias for P{:.0f} of {}: {:.1f}°C'.format(quantile * 100, PREDICTAND, bias_ex.mean().item()))"
   ]
  },
  {
   "cell_type": "code",
   "execution_count": null,
   "id": "ba38c293-6a6c-4ce4-b5a2-8e468e69cb44",
   "metadata": {},
   "outputs": [],
   "source": [
    "# mean absolute error in extreme quantile\n",
    "mae_ex = np.abs(y_pred_ex - y_true_ex).mean()\n",
    "mae_ex_ref = np.abs(y_refe_ex - y_true_ex).mean()"
   ]
  },
  {
   "cell_type": "code",
   "execution_count": null,
   "id": "d71dd376-f445-4c27-8ffc-7ec9f1583b52",
   "metadata": {},
   "outputs": [],
   "source": [
    "# mae of extreme quantile: ERA-5\n",
    "print('(ERA-5) Yearly average MAE for P{:.0f} of {}: {:.1f}°C'.format(quantile * 100, PREDICTAND, mae_ex_ref.item()))"
   ]
  },
  {
   "cell_type": "code",
   "execution_count": null,
   "id": "440cbb08-5a06-4708-baa5-3ca3bdb0675a",
   "metadata": {},
   "outputs": [],
   "source": [
    "# mae of extreme quantile: Model\n",
    "print('(Model) Yearly average MAE for P{:.0f} of {}: {:.1f}°C'.format(quantile * 100, PREDICTAND, mae_ex.item()))"
   ]
  },
  {
   "cell_type": "code",
   "execution_count": null,
   "id": "fd263446-b57f-4f4a-86fd-5b5596aa32ee",
   "metadata": {},
   "outputs": [],
   "source": [
    "# root mean squared error in extreme quantile\n",
    "rmse_ex = np.sqrt(((y_pred_ex - y_true_ex) ** 2).mean())\n",
    "rmse_ex_ref = np.sqrt(((y_refe_ex - y_true_ex) ** 2).mean())"
   ]
  },
  {
   "cell_type": "code",
   "execution_count": null,
   "id": "90245a82-992f-4592-8749-d7a21c1f3a21",
   "metadata": {},
   "outputs": [],
   "source": [
    "# rmse of extreme quantile: ERA-5\n",
    "print('(ERA-5) Yearly average RMSE for P{:.0f} of {}: {:.1f}°C'.format(quantile * 100, PREDICTAND, rmse_ex_ref.item()))"
   ]
  },
  {
   "cell_type": "code",
   "execution_count": null,
   "id": "92591caa-8ed4-4f91-a5ea-32f6b095cdfe",
   "metadata": {},
   "outputs": [],
   "source": [
    "# rmse of extreme quantile: Model\n",
    "print('(Model) Yearly average RMSE for P{:.0f} of {}: {:.1f}°C'.format(quantile * 100, PREDICTAND, rmse_ex.item()))"
   ]
  },
  {
   "cell_type": "code",
   "execution_count": null,
   "id": "cfc196fa-0999-4603-959c-2c82f038c8fa",
   "metadata": {
    "tags": []
   },
   "outputs": [],
   "source": [
    "# plot extremes of observation, prediction, and bias\n",
    "vmin, vmax = (-20, 0) if PREDICTAND == 'tasmin' else (10, 40)\n",
    "fig, axes = plt.subplots(1, 3, figsize=(24, 8), sharex=True, sharey=True)\n",
    "axes = axes.flatten()\n",
    "for ds, ax in zip([y_true_ex, y_pred_ex, bias_ex], axes):\n",
    "    if ds is bias_ex:\n",
    "        ds = ds.mean(dim='year')\n",
    "        im2 = ax.imshow(ds.values, origin='lower', cmap='RdBu_r', vmin=-2, vmax=2)\n",
    "        ax.text(x=ds.shape[0] - 2, y=2, s='Average: {:.2f}°C'.format(ds.mean().item()), fontsize=14, ha='right')\n",
    "    else:\n",
    "        im1 = ax.imshow(ds.mean(dim='year').values, origin='lower', cmap='Blues_r' if PREDICTAND == 'tasmin' else 'Reds',\n",
    "                        vmin=vmin, vmax=vmax)\n",
    "\n",
    "# set titles\n",
    "axes[0].set_title('Observed', fontsize=16, pad=10);\n",
    "axes[1].set_title('Predicted', fontsize=16, pad=10);\n",
    "axes[2].set_title('Bias', fontsize=16, pad=10);\n",
    "\n",
    "# adjust axes\n",
    "for ax in axes.flat:\n",
    "    ax.axes.get_xaxis().set_ticklabels([])\n",
    "    ax.axes.get_xaxis().set_ticks([])\n",
    "    ax.axes.get_yaxis().set_ticklabels([])\n",
    "    ax.axes.get_yaxis().set_ticks([])\n",
    "    ax.axes.axis('tight')\n",
    "    ax.set_xlabel('')\n",
    "    ax.set_ylabel('')\n",
    "\n",
    "# adjust figure\n",
    "fig.suptitle('Average P{:.0f} of {}: 1991 - 2010'.format(quantile * 100, NAMES[PREDICTAND]), fontsize=20);\n",
    "fig.subplots_adjust(hspace=0, wspace=0, top=0.85)\n",
    "\n",
    "# add colorbar for bias\n",
    "axes = axes.flatten()\n",
    "cbar_ax = fig.add_axes([axes[-1].get_position().x1 + 0.01, axes[-1].get_position().y0,\n",
    "                        0.01, axes[-1].get_position().y1 - axes[-1].get_position().y0])\n",
    "cbar = fig.colorbar(im2, cax=cbar_ax)\n",
    "cbar.set_label(label='Bias / (°C)', fontsize=16)\n",
    "cbar.ax.tick_params(labelsize=14)\n",
    "\n",
    "# add colorbar for predictand\n",
    "cbar_ax_predictand = fig.add_axes([axes[0].get_position().x0, axes[0].get_position().y0 - 0.1,\n",
    "                                   axes[-1].get_position().x0 - axes[0].get_position().x0,\n",
    "                                   0.05])\n",
    "cbar_predictand = fig.colorbar(im1, cax=cbar_ax_predictand, orientation='horizontal')\n",
    "cbar_predictand.set_label(label='{} / (°C)'.format(NAMES[PREDICTAND].capitalize()), fontsize=16)\n",
    "cbar_predictand.ax.tick_params(labelsize=14)\n",
    "\n",
    "# add metrics: MAE and RMSE\n",
    "axes[1].text(x=ds.shape[0] - 2, y=2, s='MAE = {:.2f}°C'.format(mae_ex.item()), fontsize=14, ha='right')\n",
    "axes[1].text(x=ds.shape[0] - 2, y=12, s='RMSE = {:.2f}°C$^2$'.format(rmse_ex.item()), fontsize=14, ha='right')\n",
    "\n",
    "# save figure\n",
    "fig.savefig('../Notebooks/Figures/{}_bias_p{:.0f}_{}.png'.format(PREDICTAND, quantile * 100, LOSS), dpi=300, bbox_inches='tight')"
   ]
  },
  {
   "cell_type": "markdown",
   "id": "b1550618-1314-4d45-a6b7-2f853dce3eb1",
   "metadata": {},
   "source": [
    "### Compute ERA-5 daily minimum and maximum 2m temperature"
   ]
  },
  {
   "cell_type": "code",
   "execution_count": null,
   "id": "6a1a7bc8-2edf-46f3-9fb9-9f97ed262877",
   "metadata": {},
   "outputs": [],
   "source": [
    "# search ERA-5 hourly 2m temperature data\n",
    "y_refe_list = sorted(search_files(ERA5_PATH.joinpath('Downloads', '2m_temperature'), '.nc$'))\n",
    "y_refe_list"
   ]
  },
  {
   "cell_type": "code",
   "execution_count": null,
   "id": "b6d6e195-85e9-4ac0-9e50-79fd20042665",
   "metadata": {},
   "outputs": [],
   "source": [
    "y_refe = xr.open_mfdataset(y_refe_list)"
   ]
  },
  {
   "cell_type": "code",
   "execution_count": null,
   "id": "7cbdf926-9f01-49a7-9e61-d864af4a3c38",
   "metadata": {},
   "outputs": [],
   "source": [
    "t_max = y_refe.resample(time='D').max(dim='time')"
   ]
  },
  {
   "cell_type": "code",
   "execution_count": null,
   "id": "71b38603-5ee3-4fd8-8360-67bdcb2b8f47",
   "metadata": {},
   "outputs": [],
   "source": [
    "t_min = y_refe.resample(time='D').min(dim='time')"
   ]
  },
  {
   "cell_type": "code",
   "execution_count": null,
   "id": "33c09067-9060-4432-b33a-831b4ec59c66",
   "metadata": {},
   "outputs": [],
   "source": [
    "t_max.to_netcdf('./tmax_tmp.nc', engine='h5netcdf')\n",
    "t_min.to_netcdf('./tmin_tmp.nc', engine='h5netcdf')"
   ]
  },
  {
   "cell_type": "code",
   "execution_count": null,
   "id": "a3a8d0fe-3d14-4a10-8314-59a5319551ee",
   "metadata": {},
   "outputs": [],
   "source": [
    "grid = '/mnt/CEPH_PROJECTS/FACT_CLIMAX/OBS_DATA/grid_1km_laea'"
   ]
  },
  {
   "cell_type": "code",
   "execution_count": null,
   "id": "bb0de3d6-b4ef-4228-a2c5-a06b0e540af9",
   "metadata": {},
   "outputs": [],
   "source": [
    "import pathlib\n",
    "target = pathlib.Path('/mnt/CEPH_PROJECTS/FACT_CLIMAX/REANALYSIS/ERA5/2m_{}_temperature/ERA5_2m_{}_temperature_1981_2010.nc')"
   ]
  },
  {
   "cell_type": "code",
   "execution_count": null,
   "id": "9083153e-bde5-4c06-88f8-a55ba693fdda",
   "metadata": {},
   "outputs": [],
   "source": [
    "from climax.core.utils import reproject_cdo"
   ]
  },
  {
   "cell_type": "code",
   "execution_count": null,
   "id": "cc973c07-0a24-4b3f-a5c8-5b9fc8347cdc",
   "metadata": {},
   "outputs": [],
   "source": [
    "for name, ds in zip(['min', 'max'], ['./tmin_tmp.nc', './tmax_tmp.nc']):\n",
    "    out = pathlib.Path(str(target).format(name, name))\n",
    "    #out.parent.mkdir(parents=True, exist_ok=True)\n",
    "    reproject_cdo(grid, ds, out, mode='bilinear', overwrite=True)"
   ]
  }
 ],
 "metadata": {
  "kernelspec": {
   "display_name": "Python 3 (ipykernel)",
   "language": "python",
   "name": "python3"
  },
  "language_info": {
   "codemirror_mode": {
    "name": "ipython",
    "version": 3
   },
   "file_extension": ".py",
   "mimetype": "text/x-python",
   "name": "python",
   "nbconvert_exporter": "python",
   "pygments_lexer": "ipython3",
   "version": "3.7.12"
  }
 },
 "nbformat": 4,
 "nbformat_minor": 5
}
